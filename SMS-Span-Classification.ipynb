{
 "cells": [
  {
   "cell_type": "code",
   "execution_count": 1,
   "id": "046878b8",
   "metadata": {},
   "outputs": [],
   "source": [
    "import pandas as pd"
   ]
  },
  {
   "cell_type": "code",
   "execution_count": 2,
   "id": "e91eaecc",
   "metadata": {},
   "outputs": [],
   "source": [
    "dataframe = pd.read_csv('SMSSpamCollection.txt', delimiter = \"\\t\")\n",
    "dataframe.columns = [\"label\", \"message\"]"
   ]
  },
  {
   "cell_type": "markdown",
   "id": "6a6897f6",
   "metadata": {},
   "source": [
    "### Data description\n",
    "- Dataset with 5571 entries. \n",
    "- Total of 4,824 SMS messages.\n",
    "- 4825 legitimate and 747 spam messages.\n",
    "- label: can be ham for legitimate or spam.\n",
    "- message: the message text."
   ]
  },
  {
   "cell_type": "code",
   "execution_count": 3,
   "id": "8b994f6e",
   "metadata": {},
   "outputs": [
    {
     "data": {
      "text/html": [
       "<div>\n",
       "<style scoped>\n",
       "    .dataframe tbody tr th:only-of-type {\n",
       "        vertical-align: middle;\n",
       "    }\n",
       "\n",
       "    .dataframe tbody tr th {\n",
       "        vertical-align: top;\n",
       "    }\n",
       "\n",
       "    .dataframe thead th {\n",
       "        text-align: right;\n",
       "    }\n",
       "</style>\n",
       "<table border=\"1\" class=\"dataframe\">\n",
       "  <thead>\n",
       "    <tr style=\"text-align: right;\">\n",
       "      <th></th>\n",
       "      <th>label</th>\n",
       "      <th>message</th>\n",
       "    </tr>\n",
       "  </thead>\n",
       "  <tbody>\n",
       "    <tr>\n",
       "      <th>0</th>\n",
       "      <td>ham</td>\n",
       "      <td>Ok lar... Joking wif u oni...</td>\n",
       "    </tr>\n",
       "    <tr>\n",
       "      <th>1</th>\n",
       "      <td>spam</td>\n",
       "      <td>Free entry in 2 a wkly comp to win FA Cup fina...</td>\n",
       "    </tr>\n",
       "    <tr>\n",
       "      <th>2</th>\n",
       "      <td>ham</td>\n",
       "      <td>U dun say so early hor... U c already then say...</td>\n",
       "    </tr>\n",
       "    <tr>\n",
       "      <th>3</th>\n",
       "      <td>ham</td>\n",
       "      <td>Nah I don't think he goes to usf, he lives aro...</td>\n",
       "    </tr>\n",
       "    <tr>\n",
       "      <th>4</th>\n",
       "      <td>spam</td>\n",
       "      <td>FreeMsg Hey there darling it's been 3 week's n...</td>\n",
       "    </tr>\n",
       "    <tr>\n",
       "      <th>...</th>\n",
       "      <td>...</td>\n",
       "      <td>...</td>\n",
       "    </tr>\n",
       "    <tr>\n",
       "      <th>5566</th>\n",
       "      <td>spam</td>\n",
       "      <td>This is the 2nd time we have tried 2 contact u...</td>\n",
       "    </tr>\n",
       "    <tr>\n",
       "      <th>5567</th>\n",
       "      <td>ham</td>\n",
       "      <td>Will ü b going to esplanade fr home?</td>\n",
       "    </tr>\n",
       "    <tr>\n",
       "      <th>5568</th>\n",
       "      <td>ham</td>\n",
       "      <td>Pity, * was in mood for that. So...any other s...</td>\n",
       "    </tr>\n",
       "    <tr>\n",
       "      <th>5569</th>\n",
       "      <td>ham</td>\n",
       "      <td>The guy did some bitching but I acted like i'd...</td>\n",
       "    </tr>\n",
       "    <tr>\n",
       "      <th>5570</th>\n",
       "      <td>ham</td>\n",
       "      <td>Rofl. Its true to its name</td>\n",
       "    </tr>\n",
       "  </tbody>\n",
       "</table>\n",
       "<p>5571 rows × 2 columns</p>\n",
       "</div>"
      ],
      "text/plain": [
       "     label                                            message\n",
       "0      ham                      Ok lar... Joking wif u oni...\n",
       "1     spam  Free entry in 2 a wkly comp to win FA Cup fina...\n",
       "2      ham  U dun say so early hor... U c already then say...\n",
       "3      ham  Nah I don't think he goes to usf, he lives aro...\n",
       "4     spam  FreeMsg Hey there darling it's been 3 week's n...\n",
       "...    ...                                                ...\n",
       "5566  spam  This is the 2nd time we have tried 2 contact u...\n",
       "5567   ham               Will ü b going to esplanade fr home?\n",
       "5568   ham  Pity, * was in mood for that. So...any other s...\n",
       "5569   ham  The guy did some bitching but I acted like i'd...\n",
       "5570   ham                         Rofl. Its true to its name\n",
       "\n",
       "[5571 rows x 2 columns]"
      ]
     },
     "execution_count": 3,
     "metadata": {},
     "output_type": "execute_result"
    }
   ],
   "source": [
    "dataframe"
   ]
  },
  {
   "cell_type": "markdown",
   "id": "64d6298a",
   "metadata": {},
   "source": [
    "### There is no null fields."
   ]
  },
  {
   "cell_type": "code",
   "execution_count": 4,
   "id": "85309069",
   "metadata": {},
   "outputs": [
    {
     "data": {
      "text/plain": [
       "label      0\n",
       "message    0\n",
       "dtype: int64"
      ]
     },
     "execution_count": 4,
     "metadata": {},
     "output_type": "execute_result"
    }
   ],
   "source": [
    "dataframe.isnull().sum()"
   ]
  },
  {
   "cell_type": "code",
   "execution_count": 5,
   "id": "381dd1d6",
   "metadata": {},
   "outputs": [
    {
     "data": {
      "text/html": [
       "<div>\n",
       "<style scoped>\n",
       "    .dataframe tbody tr th:only-of-type {\n",
       "        vertical-align: middle;\n",
       "    }\n",
       "\n",
       "    .dataframe tbody tr th {\n",
       "        vertical-align: top;\n",
       "    }\n",
       "\n",
       "    .dataframe thead th {\n",
       "        text-align: right;\n",
       "    }\n",
       "</style>\n",
       "<table border=\"1\" class=\"dataframe\">\n",
       "  <thead>\n",
       "    <tr style=\"text-align: right;\">\n",
       "      <th></th>\n",
       "      <th>label</th>\n",
       "      <th>message</th>\n",
       "    </tr>\n",
       "  </thead>\n",
       "  <tbody>\n",
       "    <tr>\n",
       "      <th>count</th>\n",
       "      <td>5571</td>\n",
       "      <td>5571</td>\n",
       "    </tr>\n",
       "    <tr>\n",
       "      <th>unique</th>\n",
       "      <td>2</td>\n",
       "      <td>5168</td>\n",
       "    </tr>\n",
       "    <tr>\n",
       "      <th>top</th>\n",
       "      <td>ham</td>\n",
       "      <td>Sorry, I'll call later</td>\n",
       "    </tr>\n",
       "    <tr>\n",
       "      <th>freq</th>\n",
       "      <td>4824</td>\n",
       "      <td>30</td>\n",
       "    </tr>\n",
       "  </tbody>\n",
       "</table>\n",
       "</div>"
      ],
      "text/plain": [
       "       label                 message\n",
       "count   5571                    5571\n",
       "unique     2                    5168\n",
       "top      ham  Sorry, I'll call later\n",
       "freq    4824                      30"
      ]
     },
     "execution_count": 5,
     "metadata": {},
     "output_type": "execute_result"
    }
   ],
   "source": [
    "dataframe.describe()"
   ]
  },
  {
   "cell_type": "code",
   "execution_count": 6,
   "id": "09740fb2",
   "metadata": {},
   "outputs": [
    {
     "data": {
      "text/html": [
       "<div>\n",
       "<style scoped>\n",
       "    .dataframe tbody tr th:only-of-type {\n",
       "        vertical-align: middle;\n",
       "    }\n",
       "\n",
       "    .dataframe tbody tr th {\n",
       "        vertical-align: top;\n",
       "    }\n",
       "\n",
       "    .dataframe thead th {\n",
       "        text-align: right;\n",
       "    }\n",
       "</style>\n",
       "<table border=\"1\" class=\"dataframe\">\n",
       "  <thead>\n",
       "    <tr style=\"text-align: right;\">\n",
       "      <th></th>\n",
       "      <th>label</th>\n",
       "      <th>message</th>\n",
       "    </tr>\n",
       "  </thead>\n",
       "  <tbody>\n",
       "    <tr>\n",
       "      <th>0</th>\n",
       "      <td>ham</td>\n",
       "      <td>Ok lar... Joking wif u oni...</td>\n",
       "    </tr>\n",
       "    <tr>\n",
       "      <th>1</th>\n",
       "      <td>spam</td>\n",
       "      <td>Free entry in 2 a wkly comp to win FA Cup fina...</td>\n",
       "    </tr>\n",
       "    <tr>\n",
       "      <th>2</th>\n",
       "      <td>ham</td>\n",
       "      <td>U dun say so early hor... U c already then say...</td>\n",
       "    </tr>\n",
       "    <tr>\n",
       "      <th>3</th>\n",
       "      <td>ham</td>\n",
       "      <td>Nah I don't think he goes to usf, he lives aro...</td>\n",
       "    </tr>\n",
       "    <tr>\n",
       "      <th>4</th>\n",
       "      <td>spam</td>\n",
       "      <td>FreeMsg Hey there darling it's been 3 week's n...</td>\n",
       "    </tr>\n",
       "  </tbody>\n",
       "</table>\n",
       "</div>"
      ],
      "text/plain": [
       "  label                                            message\n",
       "0   ham                      Ok lar... Joking wif u oni...\n",
       "1  spam  Free entry in 2 a wkly comp to win FA Cup fina...\n",
       "2   ham  U dun say so early hor... U c already then say...\n",
       "3   ham  Nah I don't think he goes to usf, he lives aro...\n",
       "4  spam  FreeMsg Hey there darling it's been 3 week's n..."
      ]
     },
     "execution_count": 6,
     "metadata": {},
     "output_type": "execute_result"
    }
   ],
   "source": [
    "dataframe.head()"
   ]
  },
  {
   "cell_type": "code",
   "execution_count": 7,
   "id": "b1285ec4",
   "metadata": {
    "scrolled": true
   },
   "outputs": [
    {
     "data": {
      "text/html": [
       "<div>\n",
       "<style scoped>\n",
       "    .dataframe tbody tr th:only-of-type {\n",
       "        vertical-align: middle;\n",
       "    }\n",
       "\n",
       "    .dataframe tbody tr th {\n",
       "        vertical-align: top;\n",
       "    }\n",
       "\n",
       "    .dataframe thead th {\n",
       "        text-align: right;\n",
       "    }\n",
       "</style>\n",
       "<table border=\"1\" class=\"dataframe\">\n",
       "  <thead>\n",
       "    <tr style=\"text-align: right;\">\n",
       "      <th></th>\n",
       "      <th>label</th>\n",
       "      <th>message</th>\n",
       "    </tr>\n",
       "  </thead>\n",
       "  <tbody>\n",
       "    <tr>\n",
       "      <th>5566</th>\n",
       "      <td>spam</td>\n",
       "      <td>This is the 2nd time we have tried 2 contact u...</td>\n",
       "    </tr>\n",
       "    <tr>\n",
       "      <th>5567</th>\n",
       "      <td>ham</td>\n",
       "      <td>Will ü b going to esplanade fr home?</td>\n",
       "    </tr>\n",
       "    <tr>\n",
       "      <th>5568</th>\n",
       "      <td>ham</td>\n",
       "      <td>Pity, * was in mood for that. So...any other s...</td>\n",
       "    </tr>\n",
       "    <tr>\n",
       "      <th>5569</th>\n",
       "      <td>ham</td>\n",
       "      <td>The guy did some bitching but I acted like i'd...</td>\n",
       "    </tr>\n",
       "    <tr>\n",
       "      <th>5570</th>\n",
       "      <td>ham</td>\n",
       "      <td>Rofl. Its true to its name</td>\n",
       "    </tr>\n",
       "  </tbody>\n",
       "</table>\n",
       "</div>"
      ],
      "text/plain": [
       "     label                                            message\n",
       "5566  spam  This is the 2nd time we have tried 2 contact u...\n",
       "5567   ham               Will ü b going to esplanade fr home?\n",
       "5568   ham  Pity, * was in mood for that. So...any other s...\n",
       "5569   ham  The guy did some bitching but I acted like i'd...\n",
       "5570   ham                         Rofl. Its true to its name"
      ]
     },
     "execution_count": 7,
     "metadata": {},
     "output_type": "execute_result"
    }
   ],
   "source": [
    "dataframe.tail()"
   ]
  },
  {
   "cell_type": "markdown",
   "id": "06a087df",
   "metadata": {},
   "source": [
    "### Data distribution."
   ]
  },
  {
   "cell_type": "code",
   "execution_count": 8,
   "id": "5cf169ef",
   "metadata": {},
   "outputs": [
    {
     "data": {
      "text/plain": [
       "<Figure size 576x432 with 0 Axes>"
      ]
     },
     "metadata": {},
     "output_type": "display_data"
    },
    {
     "data": {
      "image/png": "[encoded data removed]",
      "text/plain": [
       "<Figure size 432x288 with 1 Axes>"
      ]
     },
     "metadata": {
      "needs_background": "light"
     },
     "output_type": "display_data"
    }
   ],
   "source": [
    "import matplotlib.pyplot as plt\n",
    "\n",
    "graphic = plt.figure(figsize=(8,6))\n",
    "dataframe.groupby('label').count().plot.bar(ylim=0)\n",
    "plt.show()"
   ]
  },
  {
   "cell_type": "markdown",
   "id": "c0d35ff6",
   "metadata": {},
   "source": [
    "### Split the dataset into training and test."
   ]
  },
  {
   "cell_type": "code",
   "execution_count": 9,
   "id": "1c37ed0a",
   "metadata": {},
   "outputs": [],
   "source": [
    "from sklearn.model_selection import train_test_split\n",
    "\n",
    "train, test = train_test_split(dataframe, test_size=0.3, random_state=42)"
   ]
  },
  {
   "cell_type": "code",
   "execution_count": 10,
   "id": "06aa6329",
   "metadata": {},
   "outputs": [],
   "source": [
    "X_train = train.message\n",
    "X_test = test.message"
   ]
  },
  {
   "cell_type": "code",
   "execution_count": 11,
   "id": "9900e49f",
   "metadata": {},
   "outputs": [
    {
     "data": {
      "text/plain": [
       "4712    Thats cool princess! I will cover your face in...\n",
       "5028    Go chase after her and run her over while she'...\n",
       "4920     G says you never answer your texts, confirm/deny\n",
       "2110                  Do we have any spare power supplies\n",
       "2273                               Cold. Dont be sad dear\n",
       "                              ...                        \n",
       "3772                Does uncle timi help in clearing cars\n",
       "5191    Oh oh... Den muz change plan liao... Go back h...\n",
       "5226    I re-met alex nichols from middle school and i...\n",
       "5390                              Watching ajith film ah?\n",
       "860                   In work now. Going have in few min.\n",
       "Name: message, Length: 3899, dtype: object"
      ]
     },
     "execution_count": 11,
     "metadata": {},
     "output_type": "execute_result"
    }
   ],
   "source": [
    "X_train"
   ]
  },
  {
   "cell_type": "code",
   "execution_count": 12,
   "id": "f12bb3f2",
   "metadata": {},
   "outputs": [
    {
     "data": {
      "text/plain": [
       "1168    Ok . . now i am in bus. . If i come soon i wil...\n",
       "765     UR awarded a City Break and could WIN a £200 S...\n",
       "465     great princess! I love giving and receiving or...\n",
       "1117    449050000301 You have won a £2,000 price! To c...\n",
       "4934                    Hey do you want anything to buy:)\n",
       "                              ...                        \n",
       "2678    Was playng 9 doors game and gt racing on phone...\n",
       "4974    Aiyo u so poor thing... Then u dun wan 2 eat? ...\n",
       "650     Thats cool! Sometimes slow and gentle. Sonetim...\n",
       "4462    Sorry I flaked last night, shit's seriously go...\n",
       "708     To review and KEEP the fantastic Nokia N-Gage ...\n",
       "Name: message, Length: 1672, dtype: object"
      ]
     },
     "execution_count": 12,
     "metadata": {},
     "output_type": "execute_result"
    }
   ],
   "source": [
    "X_test"
   ]
  },
  {
   "cell_type": "markdown",
   "id": "b2bee155",
   "metadata": {},
   "source": [
    "### The possible categories."
   ]
  },
  {
   "cell_type": "code",
   "execution_count": 13,
   "id": "a39be369",
   "metadata": {},
   "outputs": [
    {
     "data": {
      "text/plain": [
       "['ham', 'spam']"
      ]
     },
     "execution_count": 13,
     "metadata": {},
     "output_type": "execute_result"
    }
   ],
   "source": [
    "categories = [\"ham\", \"spam\"]\n",
    "categories"
   ]
  },
  {
   "cell_type": "code",
   "execution_count": 40,
   "id": "dfabd634",
   "metadata": {},
   "outputs": [],
   "source": [
    "from sklearn.feature_extraction.text import CountVectorizer\n",
    "\n",
    "count_vect = CountVectorizer()\n",
    "\n",
    "X_train_counts = count_vect.fit_transform(X_train)"
   ]
  },
  {
   "cell_type": "code",
   "execution_count": 41,
   "id": "fc9ce563",
   "metadata": {},
   "outputs": [
    {
     "data": {
      "text/plain": [
       "(3899, 7291)"
      ]
     },
     "execution_count": 41,
     "metadata": {},
     "output_type": "execute_result"
    }
   ],
   "source": [
    "X_train_counts.shape"
   ]
  },
  {
   "cell_type": "code",
   "execution_count": 43,
   "id": "e36bcac8",
   "metadata": {},
   "outputs": [],
   "source": [
    "from sklearn.feature_extraction.text import TfidfTransformer\n",
    "\n",
    "tfidf_transformer = TfidfTransformer()\n",
    "X_train_tfidf = tfidf_transformer.fit_transform(X_train_counts)"
   ]
  },
  {
   "cell_type": "code",
   "execution_count": 44,
   "id": "36b03f76",
   "metadata": {},
   "outputs": [
    {
     "data": {
      "text/plain": [
       "<3899x7291 sparse matrix of type '<class 'numpy.float64'>'\n",
       "\twith 51850 stored elements in Compressed Sparse Row format>"
      ]
     },
     "execution_count": 44,
     "metadata": {},
     "output_type": "execute_result"
    }
   ],
   "source": [
    "X_train_tfidf"
   ]
  },
  {
   "cell_type": "markdown",
   "id": "544c8dc7",
   "metadata": {},
   "source": [
    "### Running ML algorithms.\n",
    "#### MultinomialNB\n",
    "- Based on the Bayes theorem.\n",
    "- Is a set supervised learning algorithms based on applying Bayes. \n",
    "#### TfidfVectorizer\n",
    "- First we need to transform the raw text into computable data to feed the algorithm.\n",
    "- Using TF, each word is waighted and that weight is related to the frequency of that word in the text.\n",
    "- Using IDF, this method normalize the weight of frequent terms like \"is\", \"it\", \"in\" etc.\n",
    "- The TfidfVectorizer used in the Pipeline make that transformation.\n",
    "#### OneVsRestClassifier\n",
    "- OneVsRestClassifier is a classification algorithm that uses binary heuristic for multi-class classification.\n",
    "#### Pipeline\n",
    "- Pipeline is a way to automate the processes.\n",
    "#### stopwords\n",
    "- stopwords is our set of commom words to be normalized."
   ]
  },
  {
   "cell_type": "code",
   "execution_count": 32,
   "id": "c45722c0",
   "metadata": {},
   "outputs": [
    {
     "data": {
      "text/plain": [
       "Pipeline(steps=[('tfidf',\n",
       "                 TfidfVectorizer(stop_words={'a', 'about', 'above', 'after',\n",
       "                                             'again', 'against', 'ain', 'all',\n",
       "                                             'am', 'an', 'and', 'any', 'are',\n",
       "                                             'aren', \"aren't\", 'as', 'at', 'be',\n",
       "                                             'because', 'been', 'before',\n",
       "                                             'being', 'below', 'between',\n",
       "                                             'both', 'but', 'by', 'can',\n",
       "                                             'couldn', \"couldn't\", ...})),\n",
       "                ('clf', OneVsRestClassifier(estimator=MultinomialNB()))])"
      ]
     },
     "execution_count": 32,
     "metadata": {},
     "output_type": "execute_result"
    }
   ],
   "source": [
    "from sklearn.naive_bayes import MultinomialNB\n",
    "from sklearn.feature_extraction.text import TfidfVectorizer\n",
    "from sklearn.multiclass import OneVsRestClassifier\n",
    "from sklearn.pipeline import Pipeline\n",
    "from nltk.corpus import stopwords\n",
    "from sklearn.metrics import accuracy_score\n",
    "\n",
    "stop_words = set(stopwords.words('english'))\n",
    "\n",
    "NB_pipeline = Pipeline([\n",
    "                ('tfidf', TfidfVectorizer(stop_words=stop_words, use_idf=True)),\n",
    "                ('clf', OneVsRestClassifier(MultinomialNB(fit_prior=True, class_prior=None)))])\n",
    "\n",
    "NB_pipeline.fit(X_train, train['label'])"
   ]
  },
  {
   "cell_type": "markdown",
   "id": "d2e31b94",
   "metadata": {},
   "source": [
    "### Analysing performance."
   ]
  },
  {
   "cell_type": "code",
   "execution_count": 23,
   "id": "75362927",
   "metadata": {},
   "outputs": [
    {
     "data": {
      "text/plain": [
       "'Test accuracy is 0.9766746411483254'"
      ]
     },
     "execution_count": 23,
     "metadata": {},
     "output_type": "execute_result"
    }
   ],
   "source": [
    "prediction = NB_pipeline.predict(X_test)\n",
    "'Test accuracy is {}'.format(accuracy_score(test['label'], prediction))"
   ]
  },
  {
   "cell_type": "code",
   "execution_count": 17,
   "id": "239632aa",
   "metadata": {},
   "outputs": [],
   "source": [
    "not_spam = \"Go until jurong point, crazy.. Available only in bugis n great world la e buffet... Cine there got amore wat...\""
   ]
  },
  {
   "cell_type": "code",
   "execution_count": 18,
   "id": "87a0d37a",
   "metadata": {},
   "outputs": [],
   "source": [
    "is_spam = \"Free entry in 2 a wkly comp to win FA Cup final tkts 21st May 2005. Text FA to 87121 to receive entry question(std txt rate)T&C's apply 08452810075over18's\""
   ]
  },
  {
   "cell_type": "code",
   "execution_count": 19,
   "id": "dd89047b",
   "metadata": {},
   "outputs": [],
   "source": [
    "arbitrary_message = \"Free entry in 2 a wkly comp to win FA Cup final tkts 21st May 2005.\""
   ]
  },
  {
   "cell_type": "code",
   "execution_count": 20,
   "id": "52161533",
   "metadata": {},
   "outputs": [
    {
     "data": {
      "text/plain": [
       "array(['ham'], dtype='<U4')"
      ]
     },
     "execution_count": 20,
     "metadata": {},
     "output_type": "execute_result"
    }
   ],
   "source": [
    "predict_not_spam = NB_pipeline.predict([not_spam])\n",
    "predict_not_spam"
   ]
  },
  {
   "cell_type": "code",
   "execution_count": 21,
   "id": "dabc982c",
   "metadata": {},
   "outputs": [
    {
     "data": {
      "text/plain": [
       "array(['spam'], dtype='<U4')"
      ]
     },
     "execution_count": 21,
     "metadata": {},
     "output_type": "execute_result"
    }
   ],
   "source": [
    "predict_is_spam = NB_pipeline.predict([is_spam])\n",
    "predict_is_spam"
   ]
  },
  {
   "cell_type": "code",
   "execution_count": 29,
   "id": "6fdd0afd",
   "metadata": {},
   "outputs": [
    {
     "data": {
      "text/plain": [
       "array(['spam'], dtype='<U4')"
      ]
     },
     "execution_count": 29,
     "metadata": {},
     "output_type": "execute_result"
    }
   ],
   "source": [
    "predict_arbitrary_message = NB_pipeline.predict([arbitrary_message])\n",
    "predict_arbitrary_message"
   ]
  },
  {
   "cell_type": "code",
   "execution_count": null,
   "id": "4653b5f0",
   "metadata": {},
   "outputs": [],
   "source": []
  }
 ],
 "metadata": {
  "kernelspec": {
   "display_name": "Python 3",
   "language": "python",
   "name": "python3"
  },
  "language_info": {
   "codemirror_mode": {
    "name": "ipython",
    "version": 3
   },
   "file_extension": ".py",
   "mimetype": "text/x-python",
   "name": "python",
   "nbconvert_exporter": "python",
   "pygments_lexer": "ipython3",
   "version": "3.9.5"
  }
 },
 "nbformat": 4,
 "nbformat_minor": 5
}
